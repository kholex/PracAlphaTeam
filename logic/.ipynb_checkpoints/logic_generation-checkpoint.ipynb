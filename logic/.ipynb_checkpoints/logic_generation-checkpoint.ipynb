{
 "cells": [
  {
   "cell_type": "code",
   "execution_count": 11,
   "metadata": {},
   "outputs": [],
   "source": [
    "import pandas as pd\n",
    "from datetime import datetime"
   ]
  },
  {
   "cell_type": "code",
   "execution_count": 13,
   "metadata": {},
   "outputs": [
    {
     "name": "stdout",
     "output_type": "stream",
     "text": [
      "Connected to DB: 127.0.0.1\n",
      "Succuessfully loaded the table from csv.\n"
     ]
    }
   ],
   "source": [
    "csv_to_mysql('users.csv', 'logic.User')"
   ]
  },
  {
   "cell_type": "code",
   "execution_count": 33,
   "metadata": {},
   "outputs": [
    {
     "name": "stdout",
     "output_type": "stream",
     "text": [
      "Connected to DB: 127.0.0.1\n",
      "Succuessfully loaded the table from csv.\n"
     ]
    }
   ],
   "source": [
    "csv_to_mysql('groups.csv', 'logic.Groups')"
   ]
  },
  {
   "cell_type": "code",
   "execution_count": 34,
   "metadata": {},
   "outputs": [
    {
     "name": "stdout",
     "output_type": "stream",
     "text": [
      "Connected to DB: 127.0.0.1\n",
      "Succuessfully loaded the table from csv.\n"
     ]
    }
   ],
   "source": [
    "csv_to_mysql('students.csv', 'logic.Students')"
   ]
  },
  {
   "cell_type": "code",
   "execution_count": 35,
   "metadata": {},
   "outputs": [
    {
     "name": "stdout",
     "output_type": "stream",
     "text": [
      "Connected to DB: 127.0.0.1\n",
      "Succuessfully loaded the table from csv.\n"
     ]
    }
   ],
   "source": [
    "csv_to_mysql('teachers.csv', 'logic.Teachers')"
   ]
  },
  {
   "cell_type": "code",
   "execution_count": 36,
   "metadata": {},
   "outputs": [
    {
     "name": "stdout",
     "output_type": "stream",
     "text": [
      "Connected to DB: 127.0.0.1\n",
      "Succuessfully loaded the table from csv.\n"
     ]
    }
   ],
   "source": [
    "csv_to_mysql('assignments.csv', 'logic.Assignments')"
   ]
  },
  {
   "cell_type": "code",
   "execution_count": 37,
   "metadata": {},
   "outputs": [
    {
     "name": "stdout",
     "output_type": "stream",
     "text": [
      "Connected to DB: 127.0.0.1\n",
      "Succuessfully loaded the table from csv.\n"
     ]
    }
   ],
   "source": [
    "csv_to_mysql('tasks.csv', 'logic.Tasks')"
   ]
  },
  {
   "cell_type": "code",
   "execution_count": 38,
   "metadata": {},
   "outputs": [
    {
     "name": "stdout",
     "output_type": "stream",
     "text": [
      "Connected to DB: 127.0.0.1\n",
      "Succuessfully loaded the table from csv.\n"
     ]
    }
   ],
   "source": [
    "csv_to_mysql('submissions.csv', 'logic.Submissions')"
   ]
  },
  {
   "cell_type": "code",
   "execution_count": 39,
   "metadata": {},
   "outputs": [
    {
     "name": "stdout",
     "output_type": "stream",
     "text": [
      "Connected to DB: 127.0.0.1\n",
      "Succuessfully loaded the table from csv.\n"
     ]
    },
    {
     "name": "stderr",
     "output_type": "stream",
     "text": [
      "/home/dmitry/.local/lib/python3.6/site-packages/pymysql/cursors.py:170: Warning: (1452, 'Cannot add or update a child row: a foreign key constraint fails (`logic`.`Supervisors`, CONSTRAINT `fk_Supervisors_Teachers1` FOREIGN KEY (`TeacherID`) REFERENCES `Teachers` (`UserID`) ON DELETE NO ACTION ON UPDATE NO ACTION)')\n",
      "  result = self._query(query)\n"
     ]
    }
   ],
   "source": [
    "csv_to_mysql('supervisors.csv', 'logic.Supervisors')"
   ]
  },
  {
   "cell_type": "code",
   "execution_count": 40,
   "metadata": {},
   "outputs": [
    {
     "name": "stdout",
     "output_type": "stream",
     "text": [
      "Connected to DB: 127.0.0.1\n",
      "Succuessfully loaded the table from csv.\n"
     ]
    },
    {
     "name": "stderr",
     "output_type": "stream",
     "text": [
      "/home/dmitry/.local/lib/python3.6/site-packages/pymysql/cursors.py:170: Warning: (1452, 'Cannot add or update a child row: a foreign key constraint fails (`logic`.`Grades`, CONSTRAINT `fk_Grades_Supervisors1` FOREIGN KEY (`SupervisorID`) REFERENCES `Supervisors` (`SupervisorID`) ON DELETE NO ACTION ON UPDATE NO ACTION)')\n",
      "  result = self._query(query)\n"
     ]
    }
   ],
   "source": [
    "csv_to_mysql('grades.csv', 'logic.Grades')"
   ]
  },
  {
   "cell_type": "code",
   "execution_count": null,
   "metadata": {},
   "outputs": [],
   "source": []
  },
  {
   "cell_type": "markdown",
   "metadata": {},
   "source": [
    "# Загрузка данных"
   ]
  },
  {
   "cell_type": "code",
   "execution_count": 7,
   "metadata": {},
   "outputs": [],
   "source": [
    "import pymysql\n",
    "import os\n",
    "import sys\n",
    "def csv_to_mysql(file_name, table_name):\n",
    "    '''\n",
    "    This function load a csv file to MySQL table according to\n",
    "    the load_sql statement.\n",
    "    '''\n",
    "    \n",
    "    path = os.path.abspath(os.curdir)\n",
    "    path = os.path.join(path, file_name)\n",
    "    load_sql = \"LOAD DATA LOCAL INFILE '\" + path + \"' INTO TABLE \" + table_name + \" FIELDS TERMINATED BY ',' ENCLOSED BY '\" +'\"'+\"' IGNORE 1 LINES;\"\n",
    "    host = '127.0.0.1'\n",
    "    user = 'root'\n",
    "    password = 'password'\n",
    "    try:\n",
    "        con = pymysql.connect(host=host,\n",
    "                                user=user,\n",
    "                                password=password,\n",
    "                                autocommit=True,\n",
    "                                local_infile=1)\n",
    "        print('Connected to DB: {}'.format(host))\n",
    "        # Create cursor and execute Load SQL\n",
    "        cursor = con.cursor()\n",
    "        cursor.execute(load_sql)\n",
    "        print('Succuessfully loaded the table from csv.')\n",
    "        con.close()\n",
    "        \n",
    "    except Exception as e:\n",
    "        print('Error: {}'.format(str(e)))\n",
    "        sys.exit(1)\n",
    "\n",
    "\n",
    "#file_name = 'users.csv'\n",
    "#csv_to_mysql('users.csv', 'data_vault.Users')"
   ]
  },
  {
   "cell_type": "code",
   "execution_count": null,
   "metadata": {},
   "outputs": [],
   "source": []
  }
 ],
 "metadata": {
  "kernelspec": {
   "display_name": "Python 3",
   "language": "python",
   "name": "python3"
  },
  "language_info": {
   "codemirror_mode": {
    "name": "ipython",
    "version": 3
   },
   "file_extension": ".py",
   "mimetype": "text/x-python",
   "name": "python",
   "nbconvert_exporter": "python",
   "pygments_lexer": "ipython3",
   "version": "3.7.4"
  }
 },
 "nbformat": 4,
 "nbformat_minor": 2
}
