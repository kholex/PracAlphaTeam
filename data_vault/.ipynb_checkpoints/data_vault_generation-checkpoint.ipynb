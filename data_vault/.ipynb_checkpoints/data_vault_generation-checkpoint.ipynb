{
 "cells": [
  {
   "cell_type": "code",
   "execution_count": 2,
   "metadata": {},
   "outputs": [],
   "source": [
    "import pandas as pd\n",
    "from datetime import datetime"
   ]
  },
  {
   "cell_type": "markdown",
   "metadata": {},
   "source": [
    "# Загрузка данных"
   ]
  },
  {
   "cell_type": "code",
   "execution_count": 3,
   "metadata": {},
   "outputs": [],
   "source": [
    "import pymysql\n",
    "import os\n",
    "import sys\n",
    "def csv_to_mysql(file_name, table_name, db='data_vault'):\n",
    "    '''\n",
    "    This function load a csv file to MySQL table according to\n",
    "    the load_sql statement.\n",
    "    '''\n",
    "    \n",
    "    path = os.path.abspath(os.curdir)\n",
    "    path = os.path.join(path, file_name)\n",
    "    load_sql = \"LOAD DATA LOCAL INFILE '\" + path + \"' INTO TABLE \" + table_name + \" FIELDS TERMINATED BY ',' ENCLOSED BY '\" +'\"'+\"' IGNORE 1 LINES;\"\n",
    "    host = '127.0.0.1'\n",
    "    user = 'root'\n",
    "    password = 'password'\n",
    "    try:\n",
    "        con = pymysql.connect(host=host,\n",
    "                              db = db,\n",
    "                                user=user,\n",
    "                                password=password,\n",
    "                                autocommit=True,\n",
    "                                local_infile=1)\n",
    "        print('Connected to DB: {}'.format(host))\n",
    "        # Create cursor and execute Load SQL\n",
    "        cursor = con.cursor()\n",
    "        cursor.execute(load_sql)\n",
    "        print('Succuessfully loaded the table from csv.')\n",
    "        con.close()\n",
    "        \n",
    "    except Exception as e:\n",
    "        print('Error: {}'.format(str(e)))\n",
    "        sys.exit(1)\n",
    "\n",
    "\n",
    "#file_name = 'users.csv'\n",
    "#csv_to_mysql('users.csv', 'data_vault.Users')"
   ]
  },
  {
   "cell_type": "code",
   "execution_count": 4,
   "metadata": {},
   "outputs": [],
   "source": [
    "users = pd.read_csv(\"../logic/users.csv\")"
   ]
  },
  {
   "cell_type": "code",
   "execution_count": 5,
   "metadata": {},
   "outputs": [],
   "source": [
    "students = pd.read_csv(\"../logic/students.csv\")"
   ]
  },
  {
   "cell_type": "code",
   "execution_count": 6,
   "metadata": {},
   "outputs": [],
   "source": [
    "groups = pd.read_csv(\"../logic/groups.csv\")"
   ]
  },
  {
   "cell_type": "code",
   "execution_count": 7,
   "metadata": {},
   "outputs": [],
   "source": [
    "assignments = pd.read_csv(\"../logic/assignments.csv\")"
   ]
  },
  {
   "cell_type": "code",
   "execution_count": 8,
   "metadata": {},
   "outputs": [],
   "source": [
    "tasks = pd.read_csv(\"../logic/tasks.csv\")"
   ]
  },
  {
   "cell_type": "code",
   "execution_count": 9,
   "metadata": {},
   "outputs": [],
   "source": [
    "submissions = pd.read_csv(\"../logic/submissions.csv\")"
   ]
  },
  {
   "cell_type": "code",
   "execution_count": 10,
   "metadata": {},
   "outputs": [],
   "source": [
    "teachers = pd.read_csv(\"../logic/teachers.csv\")"
   ]
  },
  {
   "cell_type": "code",
   "execution_count": 11,
   "metadata": {},
   "outputs": [],
   "source": [
    "grades = pd.read_csv(\"../logic/grades.csv\")"
   ]
  },
  {
   "cell_type": "code",
   "execution_count": 12,
   "metadata": {},
   "outputs": [],
   "source": [
    "supervisors = pd.read_csv(\"../logic/supervisors.csv\")"
   ]
  },
  {
   "cell_type": "code",
   "execution_count": 13,
   "metadata": {},
   "outputs": [],
   "source": [
    "def make_hub(table, table_id, name):\n",
    "    new_table = table[[table_id]].copy()\n",
    "    new_table['LoadDateTimeStamp'] = '2019-12-09 13:40:32'\n",
    "    new_table['RecordSource'] = 'kaggle'\n",
    "    new_table.to_csv(name, index=False)"
   ]
  },
  {
   "cell_type": "code",
   "execution_count": 14,
   "metadata": {},
   "outputs": [],
   "source": [
    "def make_link(table, columns, name, column_names=None):\n",
    "    new_table = table[columns].copy()\n",
    "    if column_names is not None:\n",
    "        new_table.columns = column_names\n",
    "    new_table['LoadDateTimeStamp'] = '2019-12-09 13:40:32'\n",
    "    new_table['RecordSource'] = 'kaggle' \n",
    "    new_table.to_csv(name, index=False)"
   ]
  },
  {
   "cell_type": "code",
   "execution_count": 15,
   "metadata": {},
   "outputs": [
    {
     "name": "stdout",
     "output_type": "stream",
     "text": [
      "Connected to DB: 127.0.0.1\n",
      "Succuessfully loaded the table from csv.\n",
      "Connected to DB: 127.0.0.1\n",
      "Succuessfully loaded the table from csv.\n",
      "Connected to DB: 127.0.0.1\n",
      "Succuessfully loaded the table from csv.\n",
      "Connected to DB: 127.0.0.1\n",
      "Succuessfully loaded the table from csv.\n",
      "Connected to DB: 127.0.0.1\n",
      "Succuessfully loaded the table from csv.\n",
      "Connected to DB: 127.0.0.1\n",
      "Succuessfully loaded the table from csv.\n",
      "Connected to DB: 127.0.0.1\n",
      "Succuessfully loaded the table from csv.\n",
      "Connected to DB: 127.0.0.1\n",
      "Succuessfully loaded the table from csv.\n",
      "Connected to DB: 127.0.0.1\n",
      "Succuessfully loaded the table from csv.\n"
     ]
    }
   ],
   "source": [
    "\n",
    "make_hub(users, 'user_id', 'users.csv')\n",
    "csv_to_mysql('users.csv', 'data_vault.Users')\n",
    "\n",
    "make_hub(students, 'student_id', 'students.csv')\n",
    "csv_to_mysql('students.csv', 'data_vault.Students')\n",
    "\n",
    "make_hub(teachers, 'teacher_id', 'teachers.csv')\n",
    "csv_to_mysql('teachers.csv', 'data_vault.Teachers')\n",
    "\n",
    "make_hub(groups, 'group_id', 'groups.csv')\n",
    "csv_to_mysql('groups.csv', 'data_vault.Groups')\n",
    "\n",
    "make_hub(assignments, 'assignment_id', 'assignments.csv')\n",
    "csv_to_mysql('assignments.csv', 'data_vault.Assignments')\n",
    "\n",
    "make_hub(submissions, 'submission_id', 'submissions.csv')\n",
    "csv_to_mysql('submissions.csv', 'data_vault.Submissions')\n",
    "\n",
    "make_hub(tasks, 'task_id', 'tasks.csv')\n",
    "csv_to_mysql('tasks.csv', 'data_vault.Tasks')\n",
    "\n",
    "make_hub(supervisors, 'supervisor_id', 'supervisors.csv')\n",
    "csv_to_mysql('supervisors.csv', 'data_vault.Supervisors')\n",
    "\n",
    "make_hub(grades, 'grade_id', 'grades.csv')\n",
    "csv_to_mysql('grades.csv', 'data_vault.Grades')"
   ]
  },
  {
   "cell_type": "code",
   "execution_count": 16,
   "metadata": {},
   "outputs": [
    {
     "name": "stdout",
     "output_type": "stream",
     "text": [
      "Connected to DB: 127.0.0.1\n",
      "Succuessfully loaded the table from csv.\n",
      "Connected to DB: 127.0.0.1\n",
      "Succuessfully loaded the table from csv.\n",
      "Connected to DB: 127.0.0.1\n",
      "Succuessfully loaded the table from csv.\n",
      "Connected to DB: 127.0.0.1\n",
      "Succuessfully loaded the table from csv.\n",
      "Connected to DB: 127.0.0.1\n",
      "Succuessfully loaded the table from csv.\n",
      "Connected to DB: 127.0.0.1\n",
      "Succuessfully loaded the table from csv.\n",
      "Connected to DB: 127.0.0.1\n",
      "Succuessfully loaded the table from csv.\n",
      "Connected to DB: 127.0.0.1\n",
      "Succuessfully loaded the table from csv.\n",
      "Connected to DB: 127.0.0.1\n",
      "Succuessfully loaded the table from csv.\n",
      "Connected to DB: 127.0.0.1\n",
      "Succuessfully loaded the table from csv.\n",
      "Connected to DB: 127.0.0.1\n",
      "Succuessfully loaded the table from csv.\n",
      "Connected to DB: 127.0.0.1\n",
      "Succuessfully loaded the table from csv.\n"
     ]
    }
   ],
   "source": [
    "make_link(teachers, ['user_id', 'teacher_id'], 'users-teachers.csv')\n",
    "csv_to_mysql('users-teachers.csv', 'data_vault.Users_Teachers')\n",
    "\n",
    "make_link(students, ['user_id', 'student_id'], 'users-students.csv')\n",
    "csv_to_mysql('users-students.csv', 'data_vault.Users_Students')\n",
    "\n",
    "make_link(teachers, ['group_id', 'teacher_id'], 'teachers-groups.csv')\n",
    "csv_to_mysql('teachers-groups.csv', 'data_vault.Teachers_Groups')\n",
    "\n",
    "make_link(students, ['student_id', 'group_id'], 'students-groups.csv')\n",
    "csv_to_mysql('students-groups.csv', 'data_vault.Students_Groups')\n",
    "\n",
    "make_link(groups, ['group_creator','group_id'] , 'users-groups.csv', ['user_id', 'group_id'])\n",
    "csv_to_mysql('users-groups.csv', 'data_vault.Users_Groups')\n",
    "\n",
    "make_link(assignments, ['group_id', 'assignment_id'], 'groups-assignments.csv')\n",
    "csv_to_mysql('groups-assignments.csv', 'data_vault.Groups_Assignments')\n",
    "\n",
    "make_link(tasks,['assignment_id', 'task_id'], 'assignments-tasks.csv')\n",
    "csv_to_mysql('assignments-tasks.csv', 'data_vault.Assignments_Tasks')\n",
    "\n",
    "make_link(submissions , ['student_id','submission_id'], 'students-submissions.csv')\n",
    "csv_to_mysql('students-submissions.csv', 'data_vault.Students_Submissions')\n",
    "\n",
    "make_link(supervisors, ['teacher_id','supervisor_id'], 'teachers-supervisors.csv')\n",
    "csv_to_mysql('teachers-supervisors.csv', 'data_vault.Teachers_Supervisors')\n",
    "\n",
    "make_link(submissions, ['submission_id','task_id'], 'task-submissions.csv')\n",
    "csv_to_mysql('task-submissions.csv', 'data_vault.Tasks_Submissions')\n",
    "\n",
    "make_link(supervisors, ['submission_id', 'supervisor_id'], 'submissions-supervisors.csv')\n",
    "csv_to_mysql('submissions-supervisors.csv', 'data_vault.Submissions_Supervisors')\n",
    "\n",
    "make_link(grades, ['supervisor_id','grade_id'] , 'supervisor-grades.csv')\n",
    "csv_to_mysql('supervisor-grades.csv', 'data_vault.Supervisors_Grades')"
   ]
  },
  {
   "cell_type": "markdown",
   "metadata": {},
   "source": [
    "# sat_users"
   ]
  },
  {
   "cell_type": "code",
   "execution_count": 17,
   "metadata": {},
   "outputs": [],
   "source": [
    "sat_users = users.copy()"
   ]
  },
  {
   "cell_type": "code",
   "execution_count": 18,
   "metadata": {},
   "outputs": [],
   "source": [
    "sat_users.insert(0, 'LoadDateTimeStamp', '2019-12-09 13:40:32')\n",
    "sat_users.insert(2, 'RecordSource', 'kaggle')\n",
    "dop = sat_users['active']\n",
    "del sat_users['active']\n",
    "sat_users.insert(4,'UserStatus', dop)"
   ]
  },
  {
   "cell_type": "code",
   "execution_count": 19,
   "metadata": {},
   "outputs": [],
   "source": [
    "sat_users.to_csv('sat_Users.csv', index=False)"
   ]
  },
  {
   "cell_type": "code",
   "execution_count": 20,
   "metadata": {},
   "outputs": [
    {
     "name": "stdout",
     "output_type": "stream",
     "text": [
      "Connected to DB: 127.0.0.1\n",
      "Succuessfully loaded the table from csv.\n"
     ]
    }
   ],
   "source": [
    "csv_to_mysql('sat_Users.csv', 'data_vault.sat_Users')"
   ]
  },
  {
   "cell_type": "markdown",
   "metadata": {},
   "source": [
    "# sat_groups"
   ]
  },
  {
   "cell_type": "code",
   "execution_count": 21,
   "metadata": {},
   "outputs": [],
   "source": [
    "sat_groups = groups.copy()"
   ]
  },
  {
   "cell_type": "code",
   "execution_count": 22,
   "metadata": {},
   "outputs": [],
   "source": [
    "sat_groups.insert(0, 'LoadDateTimeStamp', '2019-12-09 13:40:32')\n",
    "sat_groups.insert(2, 'RecordSource', 'kaggle')\n",
    "del sat_groups['group_creator']"
   ]
  },
  {
   "cell_type": "code",
   "execution_count": 23,
   "metadata": {},
   "outputs": [],
   "source": [
    "sat_groups.to_csv('sat_Groups.csv', index=False)"
   ]
  },
  {
   "cell_type": "code",
   "execution_count": 24,
   "metadata": {},
   "outputs": [
    {
     "name": "stdout",
     "output_type": "stream",
     "text": [
      "Connected to DB: 127.0.0.1\n",
      "Succuessfully loaded the table from csv.\n"
     ]
    }
   ],
   "source": [
    "csv_to_mysql('sat_Groups.csv', 'data_vault.sat_Groups')"
   ]
  },
  {
   "cell_type": "markdown",
   "metadata": {},
   "source": [
    "# sat_assignments"
   ]
  },
  {
   "cell_type": "code",
   "execution_count": 25,
   "metadata": {},
   "outputs": [],
   "source": [
    "sat_assignments = assignments.copy()"
   ]
  },
  {
   "cell_type": "code",
   "execution_count": 26,
   "metadata": {},
   "outputs": [],
   "source": [
    "sat_assignments.insert(0, 'LoadDateTimeStamp', '2019-12-09 13:40:32')\n",
    "sat_assignments.insert(2, 'RecordSource', 'kaggle')\n",
    "del sat_assignments['group_id']"
   ]
  },
  {
   "cell_type": "code",
   "execution_count": 27,
   "metadata": {},
   "outputs": [],
   "source": [
    "sat_assignments.to_csv('sat_Assignments.csv', index=False)"
   ]
  },
  {
   "cell_type": "code",
   "execution_count": 28,
   "metadata": {},
   "outputs": [
    {
     "name": "stdout",
     "output_type": "stream",
     "text": [
      "Connected to DB: 127.0.0.1\n",
      "Succuessfully loaded the table from csv.\n"
     ]
    }
   ],
   "source": [
    "csv_to_mysql('sat_Assignments.csv', 'data_vault.sat_Assignments')"
   ]
  },
  {
   "cell_type": "markdown",
   "metadata": {},
   "source": [
    "# sat_submissions"
   ]
  },
  {
   "cell_type": "code",
   "execution_count": 29,
   "metadata": {},
   "outputs": [],
   "source": [
    "sat_submissions  = submissions.copy()"
   ]
  },
  {
   "cell_type": "code",
   "execution_count": 30,
   "metadata": {},
   "outputs": [],
   "source": [
    "sat_submissions.insert(0, 'LoadDateTimeStamp', '2019-12-09 13:40:32')\n",
    "sat_submissions.insert(2, 'RecordSource', 'kaggle')\n",
    "del sat_submissions['task_id']\n",
    "del sat_submissions['student_id']"
   ]
  },
  {
   "cell_type": "code",
   "execution_count": 31,
   "metadata": {},
   "outputs": [],
   "source": [
    "sat_submissions.to_csv('sat_Submissions.csv', index=False)"
   ]
  },
  {
   "cell_type": "code",
   "execution_count": 32,
   "metadata": {},
   "outputs": [
    {
     "name": "stdout",
     "output_type": "stream",
     "text": [
      "Connected to DB: 127.0.0.1\n",
      "Succuessfully loaded the table from csv.\n"
     ]
    }
   ],
   "source": [
    "csv_to_mysql('sat_Submissions.csv', 'data_vault.sat_Submissions')"
   ]
  },
  {
   "cell_type": "markdown",
   "metadata": {},
   "source": [
    "# sat_tasks"
   ]
  },
  {
   "cell_type": "code",
   "execution_count": 33,
   "metadata": {},
   "outputs": [],
   "source": [
    "sat_tasks  = tasks.copy()"
   ]
  },
  {
   "cell_type": "code",
   "execution_count": 34,
   "metadata": {},
   "outputs": [],
   "source": [
    "sat_tasks.insert(0, 'LoadDateTimeStamp', '2019-12-09 13:40:32')\n",
    "sat_tasks.insert(2, 'RecordSource', 'kaggle')"
   ]
  },
  {
   "cell_type": "code",
   "execution_count": 35,
   "metadata": {},
   "outputs": [],
   "source": [
    "del sat_tasks['assignment_id']"
   ]
  },
  {
   "cell_type": "code",
   "execution_count": 36,
   "metadata": {},
   "outputs": [],
   "source": [
    "sat_tasks.to_csv('sat_Tasks.csv', index=False)"
   ]
  },
  {
   "cell_type": "code",
   "execution_count": 37,
   "metadata": {},
   "outputs": [
    {
     "name": "stdout",
     "output_type": "stream",
     "text": [
      "Connected to DB: 127.0.0.1\n",
      "Succuessfully loaded the table from csv.\n"
     ]
    }
   ],
   "source": [
    "csv_to_mysql('sat_Tasks.csv', 'data_vault.sat_Tasks')"
   ]
  },
  {
   "cell_type": "markdown",
   "metadata": {},
   "source": [
    "# sat_grades"
   ]
  },
  {
   "cell_type": "code",
   "execution_count": 38,
   "metadata": {},
   "outputs": [],
   "source": [
    "sat_grades  = grades.copy()"
   ]
  },
  {
   "cell_type": "code",
   "execution_count": 39,
   "metadata": {},
   "outputs": [],
   "source": [
    "sat_grades.insert(0, 'LoadDateTimeStamp', '2019-12-09 13:40:32')\n",
    "sat_grades.insert(2, 'RecordSource', 'kaggle')"
   ]
  },
  {
   "cell_type": "code",
   "execution_count": 40,
   "metadata": {},
   "outputs": [],
   "source": [
    "del sat_grades['supervisor_id']"
   ]
  },
  {
   "cell_type": "code",
   "execution_count": 41,
   "metadata": {},
   "outputs": [],
   "source": [
    "sat_grades.to_csv('sat_Grades.csv', index=False)"
   ]
  },
  {
   "cell_type": "code",
   "execution_count": 42,
   "metadata": {},
   "outputs": [
    {
     "name": "stdout",
     "output_type": "stream",
     "text": [
      "Connected to DB: 127.0.0.1\n",
      "Succuessfully loaded the table from csv.\n"
     ]
    }
   ],
   "source": [
    "csv_to_mysql('sat_Grades.csv', 'data_vault.sat_Grades')"
   ]
  },
  {
   "cell_type": "code",
   "execution_count": null,
   "metadata": {},
   "outputs": [],
   "source": []
  }
 ],
 "metadata": {
  "kernelspec": {
   "display_name": "Python 3",
   "language": "python",
   "name": "python3"
  },
  "language_info": {
   "codemirror_mode": {
    "name": "ipython",
    "version": 3
   },
   "file_extension": ".py",
   "mimetype": "text/x-python",
   "name": "python",
   "nbconvert_exporter": "python",
   "pygments_lexer": "ipython3",
   "version": "3.7.4"
  }
 },
 "nbformat": 4,
 "nbformat_minor": 2
}
