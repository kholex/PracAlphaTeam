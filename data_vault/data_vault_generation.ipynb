{
 "cells": [
  {
   "cell_type": "code",
   "execution_count": 126,
   "metadata": {},
   "outputs": [],
   "source": [
    "import pandas as pd\n",
    "from datetime import datetime"
   ]
  },
  {
   "cell_type": "code",
   "execution_count": 127,
   "metadata": {},
   "outputs": [],
   "source": [
    "users = pd.read_csv(\"../logic/users.csv\")"
   ]
  },
  {
   "cell_type": "code",
   "execution_count": 128,
   "metadata": {},
   "outputs": [],
   "source": [
    "students = pd.read_csv(\"../logic/students.csv\")"
   ]
  },
  {
   "cell_type": "code",
   "execution_count": 129,
   "metadata": {},
   "outputs": [],
   "source": [
    "groups = pd.read_csv(\"../logic/groups.csv\")"
   ]
  },
  {
   "cell_type": "code",
   "execution_count": 130,
   "metadata": {},
   "outputs": [],
   "source": [
    "assignments = pd.read_csv(\"../logic/assignments.csv\")"
   ]
  },
  {
   "cell_type": "code",
   "execution_count": 131,
   "metadata": {},
   "outputs": [],
   "source": [
    "tasks = pd.read_csv(\"../logic/tasks.csv\")"
   ]
  },
  {
   "cell_type": "code",
   "execution_count": 132,
   "metadata": {},
   "outputs": [],
   "source": [
    "submissions = pd.read_csv(\"../logic/submissions.csv\")"
   ]
  },
  {
   "cell_type": "code",
   "execution_count": 133,
   "metadata": {},
   "outputs": [],
   "source": [
    "teachers = pd.read_csv(\"../logic/teachers.csv\")"
   ]
  },
  {
   "cell_type": "code",
   "execution_count": 134,
   "metadata": {},
   "outputs": [],
   "source": [
    "grades = pd.read_csv(\"../logic/grades.csv\")"
   ]
  },
  {
   "cell_type": "code",
   "execution_count": 135,
   "metadata": {},
   "outputs": [],
   "source": [
    "supervisors = pd.read_csv(\"../logic/supervisors.csv\")"
   ]
  },
  {
   "cell_type": "code",
   "execution_count": 136,
   "metadata": {},
   "outputs": [],
   "source": [
    "def make_hub(table, table_id, name):\n",
    "    new_table = table[[table_id]].copy()\n",
    "    new_table['LoadDateTimeStamp'] = '2019-12-09 13:40:32'\n",
    "    new_table['RecordSource'] = 'kaggle'\n",
    "    new_table.to_csv(name, index=False)"
   ]
  },
  {
   "cell_type": "code",
   "execution_count": 137,
   "metadata": {},
   "outputs": [],
   "source": [
    "def make_link(table, columns, name, column_names=None):\n",
    "    new_table = table[columns].copy()\n",
    "    if column_names is not None:\n",
    "        new_table.columns = column_names\n",
    "    new_table['LoadDateTimeStamp'] = '2019-12-09 13:40:32'\n",
    "    new_table['RecordSource'] = 'kaggle' \n",
    "    new_table.to_csv(name, index=False)"
   ]
  },
  {
   "cell_type": "code",
   "execution_count": 168,
   "metadata": {},
   "outputs": [
    {
     "name": "stdout",
     "output_type": "stream",
     "text": [
      "Connected to DB: 127.0.0.1\n",
      "Succuessfully loaded the table from csv.\n",
      "Connected to DB: 127.0.0.1\n",
      "Succuessfully loaded the table from csv.\n",
      "Connected to DB: 127.0.0.1\n",
      "Succuessfully loaded the table from csv.\n",
      "Connected to DB: 127.0.0.1\n",
      "Succuessfully loaded the table from csv.\n",
      "Connected to DB: 127.0.0.1\n",
      "Succuessfully loaded the table from csv.\n",
      "Connected to DB: 127.0.0.1\n",
      "Succuessfully loaded the table from csv.\n",
      "Connected to DB: 127.0.0.1\n",
      "Succuessfully loaded the table from csv.\n",
      "Connected to DB: 127.0.0.1\n",
      "Succuessfully loaded the table from csv.\n",
      "Connected to DB: 127.0.0.1\n",
      "Succuessfully loaded the table from csv.\n"
     ]
    }
   ],
   "source": [
    "make_hub(users, 'user_id', 'users.csv')\n",
    "csv_to_mysql('users.csv', 'data_vault.users')\n",
    "\n",
    "make_hub(students, 'student_id', 'students.csv')\n",
    "csv_to_mysql('students.csv', 'data_vault.students')\n",
    "\n",
    "make_hub(teachers, 'teacher_id', 'teachers.csv')\n",
    "csv_to_mysql('teachers.csv', 'data_vault.teachers')\n",
    "\n",
    "make_hub(groups, 'group_id', 'groups.csv')\n",
    "csv_to_mysql('groups.csv', 'data_vault.group')\n",
    "\n",
    "make_hub(assignments, 'assignment_id', 'assignments.csv')\n",
    "csv_to_mysql('assignments.csv', 'data_vault.assignment')\n",
    "\n",
    "make_hub(submissions, 'submission_id', 'submissions.csv')\n",
    "csv_to_mysql('submissions.csv', 'data_vault.submissions')\n",
    "\n",
    "make_hub(tasks, 'task_id', 'tasks.csv')\n",
    "csv_to_mysql('tasks.csv', 'data_vault.tasks')\n",
    "\n",
    "make_hub(supervisors, 'supervisor_id', 'supervisors.csv')\n",
    "csv_to_mysql('supervisors.csv', 'data_vault.supervisors')\n",
    "\n",
    "make_hub(grades, 'grade_id', 'grades.csv')\n",
    "csv_to_mysql('grades.csv', 'data_vault.grades')"
   ]
  },
  {
   "cell_type": "code",
   "execution_count": 139,
   "metadata": {},
   "outputs": [],
   "source": [
    "make_link(teachers, ['user_id', 'teacher_id'], 'users-teachers.csv')\n",
    "make_link(students, ['user_id', 'student_id'], 'users-students.csv')\n",
    "make_link(teachers, ['teacher_id', 'group_id'], 'teachers-groups.csv')\n",
    "make_link(students, ['student_id', 'group_id'], 'students-groups.csv')\n",
    "make_link(groups, ['group_creator','group_id'] , 'users-groups.csv', ['user_id', 'group_id'])\n",
    "\n",
    "make_link(assignments, ['group_id', 'assignment_id'], 'groups-assignments.csv')\n",
    "make_link(tasks,['assignment_id', 'task_id'], 'assignments-tasks.csv')\n",
    "make_link(submissions , ['student_id','submission_id'], 'students-submissions.csv')\n",
    "\n",
    "make_link(supervisors, ['teacher_id','supervisor_id'], 'teachers-supervisors.csv')\n",
    "make_link(submissions, ['submission_id','task_id'], 'task-submissions.csv')\n",
    "\n",
    "make_link(supervisors, ['submission_id', 'supervisor_id'], 'submissions-supervisors.csv')\n",
    "make_link(grades, ['supervisor_id','grade_id'] , 'supervisor-grades.csv')"
   ]
  },
  {
   "cell_type": "markdown",
   "metadata": {},
   "source": [
    "# sat_users"
   ]
  },
  {
   "cell_type": "code",
   "execution_count": 140,
   "metadata": {},
   "outputs": [],
   "source": [
    "sat_users = users.copy()"
   ]
  },
  {
   "cell_type": "code",
   "execution_count": 141,
   "metadata": {},
   "outputs": [],
   "source": [
    "sat_users.insert(0, 'LoadDateTimeStamp', '2019-12-09 13:40:32')\n",
    "sat_users.insert(2, 'RecordSource', 'kaggle')\n",
    "dop = sat_users['active']\n",
    "del sat_users['active']\n",
    "sat_users.insert(4,'UserStatus', dop)"
   ]
  },
  {
   "cell_type": "code",
   "execution_count": 142,
   "metadata": {},
   "outputs": [],
   "source": [
    "sat_users.to_csv('sat_Users.csv', index=False)"
   ]
  },
  {
   "cell_type": "markdown",
   "metadata": {},
   "source": [
    "# sat_groups"
   ]
  },
  {
   "cell_type": "code",
   "execution_count": 143,
   "metadata": {},
   "outputs": [],
   "source": [
    "sat_groups = groups.copy()"
   ]
  },
  {
   "cell_type": "code",
   "execution_count": 144,
   "metadata": {},
   "outputs": [],
   "source": [
    "sat_groups.insert(0, 'LoadDateTimeStamp', '2019-12-09 13:40:32')\n",
    "sat_groups.insert(2, 'RecordSource', 'kaggle')\n",
    "del sat_groups['group_creator']"
   ]
  },
  {
   "cell_type": "code",
   "execution_count": 145,
   "metadata": {},
   "outputs": [],
   "source": [
    "sat_groups.to_csv('sat_Groups.csv', index=False)"
   ]
  },
  {
   "cell_type": "markdown",
   "metadata": {},
   "source": [
    "# sat_assignments"
   ]
  },
  {
   "cell_type": "code",
   "execution_count": 146,
   "metadata": {},
   "outputs": [],
   "source": [
    "sat_assignments = assignments.copy()"
   ]
  },
  {
   "cell_type": "code",
   "execution_count": 147,
   "metadata": {},
   "outputs": [],
   "source": [
    "sat_assignments.insert(0, 'LoadDateTimeStamp', '2019-12-09 13:40:32')\n",
    "sat_assignments.insert(2, 'RecordSource', 'kaggle')\n",
    "del sat_assignments['group_id']"
   ]
  },
  {
   "cell_type": "code",
   "execution_count": 148,
   "metadata": {},
   "outputs": [],
   "source": [
    "sat_assignments.to_csv('sat_assignments.csv', index=False)"
   ]
  },
  {
   "cell_type": "markdown",
   "metadata": {},
   "source": [
    "# sat_submissions"
   ]
  },
  {
   "cell_type": "code",
   "execution_count": 149,
   "metadata": {},
   "outputs": [],
   "source": [
    "sat_submissions  = submissions.copy()"
   ]
  },
  {
   "cell_type": "code",
   "execution_count": 150,
   "metadata": {},
   "outputs": [],
   "source": [
    "sat_submissions.insert(0, 'LoadDateTimeStamp', '2019-12-09 13:40:32')\n",
    "sat_submissions.insert(2, 'RecordSource', 'kaggle')\n",
    "del sat_submissions['task_id']\n",
    "del sat_submissions['student_id']"
   ]
  },
  {
   "cell_type": "code",
   "execution_count": 151,
   "metadata": {},
   "outputs": [],
   "source": [
    "sat_submissions.to_csv('sat_submissions.csv', index=False)"
   ]
  },
  {
   "cell_type": "markdown",
   "metadata": {},
   "source": [
    "# sat_tasks"
   ]
  },
  {
   "cell_type": "code",
   "execution_count": 152,
   "metadata": {},
   "outputs": [],
   "source": [
    "sat_tasks  = tasks.copy()"
   ]
  },
  {
   "cell_type": "code",
   "execution_count": 153,
   "metadata": {},
   "outputs": [],
   "source": [
    "sat_tasks.insert(0, 'LoadDateTimeStamp', '2019-12-09 13:40:32')\n",
    "sat_tasks.insert(2, 'RecordSource', 'kaggle')"
   ]
  },
  {
   "cell_type": "code",
   "execution_count": 154,
   "metadata": {},
   "outputs": [],
   "source": [
    "del sat_tasks['assignment_id']"
   ]
  },
  {
   "cell_type": "code",
   "execution_count": 155,
   "metadata": {},
   "outputs": [],
   "source": [
    "sat_tasks.to_csv('sat_tasks.csv', index=False)"
   ]
  },
  {
   "cell_type": "markdown",
   "metadata": {},
   "source": [
    "# sat_grades"
   ]
  },
  {
   "cell_type": "code",
   "execution_count": 156,
   "metadata": {},
   "outputs": [],
   "source": [
    "sat_grades  = grades.copy()"
   ]
  },
  {
   "cell_type": "code",
   "execution_count": 157,
   "metadata": {},
   "outputs": [],
   "source": [
    "sat_grades.insert(0, 'LoadDateTimeStamp', '2019-12-09 13:40:32')\n",
    "sat_grades.insert(2, 'RecordSource', 'kaggle')"
   ]
  },
  {
   "cell_type": "code",
   "execution_count": 158,
   "metadata": {},
   "outputs": [],
   "source": [
    "del sat_grades['supervisor_id']"
   ]
  },
  {
   "cell_type": "code",
   "execution_count": 159,
   "metadata": {},
   "outputs": [],
   "source": [
    "sat_grades.to_csv('sat_grades.csv', index=False)"
   ]
  },
  {
   "cell_type": "markdown",
   "metadata": {},
   "source": [
    "# Загрузка данных"
   ]
  },
  {
   "cell_type": "code",
   "execution_count": 167,
   "metadata": {},
   "outputs": [
    {
     "name": "stdout",
     "output_type": "stream",
     "text": [
      "Connected to DB: 127.0.0.1\n",
      "Succuessfully loaded the table from csv.\n"
     ]
    }
   ],
   "source": [
    "import pymysql\n",
    "import os\n",
    "import sys\n",
    "def csv_to_mysql(file_name, table_name):\n",
    "    '''\n",
    "    This function load a csv file to MySQL table according to\n",
    "    the load_sql statement.\n",
    "    '''\n",
    "    \n",
    "    path = os.path.abspath(os.curdir)\n",
    "    path = os.path.join(path, file_name)\n",
    "    load_sql = \"LOAD DATA LOCAL INFILE '\" + path + \"' INTO TABLE \" + table_name + \" FIELDS TERMINATED BY ',' ENCLOSED BY '\" +'\"'+\"' IGNORE 1 LINES;\"\n",
    "    host = '127.0.0.1'\n",
    "    user = 'root'\n",
    "    password = ''\n",
    "    try:\n",
    "        con = pymysql.connect(host=host,\n",
    "                                user=user,\n",
    "                                password=password,\n",
    "                                autocommit=True,\n",
    "                                local_infile=1)\n",
    "        print('Connected to DB: {}'.format(host))\n",
    "        # Create cursor and execute Load SQL\n",
    "        cursor = con.cursor()\n",
    "        cursor.execute(load_sql)\n",
    "        print('Succuessfully loaded the table from csv.')\n",
    "        con.close()\n",
    "        \n",
    "    except Exception as e:\n",
    "        print('Error: {}'.format(str(e)))\n",
    "        sys.exit(1)\n",
    "\n",
    "\n",
    "file_name = 'users.csv'\n",
    "csv_to_mysql('users.csv', 'data_vault.users')"
   ]
  }
 ],
 "metadata": {
  "kernelspec": {
   "display_name": "Python 3",
   "language": "python",
   "name": "python3"
  },
  "language_info": {
   "codemirror_mode": {
    "name": "ipython",
    "version": 3
   },
   "file_extension": ".py",
   "mimetype": "text/x-python",
   "name": "python",
   "nbconvert_exporter": "python",
   "pygments_lexer": "ipython3",
   "version": "3.7.4"
  }
 },
 "nbformat": 4,
 "nbformat_minor": 2
}
